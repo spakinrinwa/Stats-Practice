{
 "cells": [
  {
   "cell_type": "markdown",
   "metadata": {},
   "source": [
    "This notebook is to practice the use of statistical approach to understand and draw hypothesis with data. A data file having features such as heights and weights data of football players is examined and some hypothesis are drawn with the data."
   ]
  },
  {
   "cell_type": "code",
   "execution_count": 91,
   "metadata": {},
   "outputs": [],
   "source": [
    "import warnings\n",
    "warnings.filterwarnings('ignore')"
   ]
  },
  {
   "cell_type": "code",
   "execution_count": 2,
   "metadata": {},
   "outputs": [],
   "source": [
    "import pandas as pd\n",
    "import numpy as np\n",
    "import matplotlib.pyplot as plt"
   ]
  },
  {
   "cell_type": "markdown",
   "metadata": {},
   "source": [
    "Importing Pandas and reading from a .tsv file. There is no heading in the file so the names are to set headings. Dataframes are used to store an instance of the read file."
   ]
  },
  {
   "cell_type": "code",
   "execution_count": 3,
   "metadata": {},
   "outputs": [
    {
     "data": {
      "text/html": [
       "<div>\n",
       "<style scoped>\n",
       "    .dataframe tbody tr th:only-of-type {\n",
       "        vertical-align: middle;\n",
       "    }\n",
       "\n",
       "    .dataframe tbody tr th {\n",
       "        vertical-align: top;\n",
       "    }\n",
       "\n",
       "    .dataframe thead th {\n",
       "        text-align: right;\n",
       "    }\n",
       "</style>\n",
       "<table border=\"1\" class=\"dataframe\">\n",
       "  <thead>\n",
       "    <tr style=\"text-align: right;\">\n",
       "      <th></th>\n",
       "      <th>Name</th>\n",
       "      <th>Team</th>\n",
       "      <th>Role</th>\n",
       "      <th>Height</th>\n",
       "      <th>Weight</th>\n",
       "      <th>Age</th>\n",
       "    </tr>\n",
       "  </thead>\n",
       "  <tbody>\n",
       "    <tr>\n",
       "      <th>0</th>\n",
       "      <td>Adam_Donachie</td>\n",
       "      <td>BAL</td>\n",
       "      <td>Catcher</td>\n",
       "      <td>74</td>\n",
       "      <td>180.0</td>\n",
       "      <td>22.99</td>\n",
       "    </tr>\n",
       "    <tr>\n",
       "      <th>1</th>\n",
       "      <td>Paul_Bako</td>\n",
       "      <td>BAL</td>\n",
       "      <td>Catcher</td>\n",
       "      <td>74</td>\n",
       "      <td>215.0</td>\n",
       "      <td>34.69</td>\n",
       "    </tr>\n",
       "    <tr>\n",
       "      <th>2</th>\n",
       "      <td>Ramon_Hernandez</td>\n",
       "      <td>BAL</td>\n",
       "      <td>Catcher</td>\n",
       "      <td>72</td>\n",
       "      <td>210.0</td>\n",
       "      <td>30.78</td>\n",
       "    </tr>\n",
       "    <tr>\n",
       "      <th>3</th>\n",
       "      <td>Kevin_Millar</td>\n",
       "      <td>BAL</td>\n",
       "      <td>First_Baseman</td>\n",
       "      <td>72</td>\n",
       "      <td>210.0</td>\n",
       "      <td>35.43</td>\n",
       "    </tr>\n",
       "    <tr>\n",
       "      <th>4</th>\n",
       "      <td>Chris_Gomez</td>\n",
       "      <td>BAL</td>\n",
       "      <td>First_Baseman</td>\n",
       "      <td>73</td>\n",
       "      <td>188.0</td>\n",
       "      <td>35.71</td>\n",
       "    </tr>\n",
       "  </tbody>\n",
       "</table>\n",
       "</div>"
      ],
      "text/plain": [
       "              Name Team           Role  Height  Weight    Age\n",
       "0    Adam_Donachie  BAL        Catcher      74   180.0  22.99\n",
       "1        Paul_Bako  BAL        Catcher      74   215.0  34.69\n",
       "2  Ramon_Hernandez  BAL        Catcher      72   210.0  30.78\n",
       "3     Kevin_Millar  BAL  First_Baseman      72   210.0  35.43\n",
       "4      Chris_Gomez  BAL  First_Baseman      73   188.0  35.71"
      ]
     },
     "execution_count": 3,
     "metadata": {},
     "output_type": "execute_result"
    }
   ],
   "source": [
    "df = pd.read_csv(\"../../data/SOCR_MLB.tsv\", sep = \"\\t\", header=None, names = ['Name','Team','Role','Height','Weight','Age'])\n",
    "df.head()"
   ]
  },
  {
   "cell_type": "code",
   "execution_count": 4,
   "metadata": {},
   "outputs": [
    {
     "name": "stdout",
     "output_type": "stream",
     "text": [
      "<class 'pandas.core.frame.DataFrame'>\n",
      "RangeIndex: 1034 entries, 0 to 1033\n",
      "Data columns (total 6 columns):\n",
      " #   Column  Non-Null Count  Dtype  \n",
      "---  ------  --------------  -----  \n",
      " 0   Name    1034 non-null   object \n",
      " 1   Team    1034 non-null   object \n",
      " 2   Role    1034 non-null   object \n",
      " 3   Height  1034 non-null   int64  \n",
      " 4   Weight  1033 non-null   float64\n",
      " 5   Age     1034 non-null   float64\n",
      "dtypes: float64(2), int64(1), object(3)\n",
      "memory usage: 48.6+ KB\n"
     ]
    }
   ],
   "source": [
    "df.info() #This shows aggregate information on the data file\n"
   ]
  },
  {
   "cell_type": "code",
   "execution_count": 5,
   "metadata": {},
   "outputs": [
    {
     "data": {
      "text/html": [
       "<div>\n",
       "<style scoped>\n",
       "    .dataframe tbody tr th:only-of-type {\n",
       "        vertical-align: middle;\n",
       "    }\n",
       "\n",
       "    .dataframe tbody tr th {\n",
       "        vertical-align: top;\n",
       "    }\n",
       "\n",
       "    .dataframe thead th {\n",
       "        text-align: right;\n",
       "    }\n",
       "</style>\n",
       "<table border=\"1\" class=\"dataframe\">\n",
       "  <thead>\n",
       "    <tr style=\"text-align: right;\">\n",
       "      <th></th>\n",
       "      <th>Height</th>\n",
       "      <th>Weight</th>\n",
       "      <th>Age</th>\n",
       "    </tr>\n",
       "  </thead>\n",
       "  <tbody>\n",
       "    <tr>\n",
       "      <th>count</th>\n",
       "      <td>1034.000000</td>\n",
       "      <td>1033.000000</td>\n",
       "      <td>1034.000000</td>\n",
       "    </tr>\n",
       "    <tr>\n",
       "      <th>mean</th>\n",
       "      <td>73.697292</td>\n",
       "      <td>201.689255</td>\n",
       "      <td>28.736712</td>\n",
       "    </tr>\n",
       "    <tr>\n",
       "      <th>std</th>\n",
       "      <td>2.305818</td>\n",
       "      <td>20.991491</td>\n",
       "      <td>4.320310</td>\n",
       "    </tr>\n",
       "    <tr>\n",
       "      <th>min</th>\n",
       "      <td>67.000000</td>\n",
       "      <td>150.000000</td>\n",
       "      <td>20.900000</td>\n",
       "    </tr>\n",
       "    <tr>\n",
       "      <th>25%</th>\n",
       "      <td>72.000000</td>\n",
       "      <td>187.000000</td>\n",
       "      <td>25.440000</td>\n",
       "    </tr>\n",
       "    <tr>\n",
       "      <th>50%</th>\n",
       "      <td>74.000000</td>\n",
       "      <td>200.000000</td>\n",
       "      <td>27.925000</td>\n",
       "    </tr>\n",
       "    <tr>\n",
       "      <th>75%</th>\n",
       "      <td>75.000000</td>\n",
       "      <td>215.000000</td>\n",
       "      <td>31.232500</td>\n",
       "    </tr>\n",
       "    <tr>\n",
       "      <th>max</th>\n",
       "      <td>83.000000</td>\n",
       "      <td>290.000000</td>\n",
       "      <td>48.520000</td>\n",
       "    </tr>\n",
       "  </tbody>\n",
       "</table>\n",
       "</div>"
      ],
      "text/plain": [
       "            Height       Weight          Age\n",
       "count  1034.000000  1033.000000  1034.000000\n",
       "mean     73.697292   201.689255    28.736712\n",
       "std       2.305818    20.991491     4.320310\n",
       "min      67.000000   150.000000    20.900000\n",
       "25%      72.000000   187.000000    25.440000\n",
       "50%      74.000000   200.000000    27.925000\n",
       "75%      75.000000   215.000000    31.232500\n",
       "max      83.000000   290.000000    48.520000"
      ]
     },
     "execution_count": 5,
     "metadata": {},
     "output_type": "execute_result"
    }
   ],
   "source": [
    "df.describe() #This is done to describe the data with mean, Q1, Q2, Q3 min and max values of the columns having integer and float features"
   ]
  },
  {
   "cell_type": "code",
   "execution_count": 24,
   "metadata": {},
   "outputs": [
    {
     "name": "stdout",
     "output_type": "stream",
     "text": [
      "There are 1034 observations and 6 features in this dataset. \n",
      "\n",
      "There are 1034 number of baseball players in this dataset \n",
      "\n",
      "Here is the distribution of this dataset according to roles: \n",
      "Relief_Pitcher       315\n",
      "Starting_Pitcher     221\n",
      "Outfielder           194\n",
      "Catcher               76\n",
      "Second_Baseman        58\n",
      "First_Baseman         55\n",
      "Shortstop             52\n",
      "Third_Baseman         45\n",
      "Designated_Hitter     18\n",
      "Name: Role, dtype: int64 \n",
      "\n"
     ]
    }
   ],
   "source": [
    "print(\"There are {} observations and {} features in this dataset. \\n\".format(df.shape[0],df.shape[1]))\n",
    "\n",
    "print(\"There are {} number of baseball players in this dataset \\n\".format(len(df.Name)))\n",
    "\n",
    "print(\"Here is the distribution of this dataset according to roles: \\n{} \\n\".format(df[\"Role\"].value_counts()))\n"
   ]
  },
  {
   "cell_type": "code",
   "execution_count": 7,
   "metadata": {},
   "outputs": [
    {
     "name": "stdout",
     "output_type": "stream",
     "text": [
      "73.6972920696325\n"
     ]
    }
   ],
   "source": [
    "#We import numpy as np, Numpy is used to carry out statistical operations on matrices such as mean, std and variance\n",
    "\n",
    "mean = np.mean(df['Height'])\n",
    "print (mean)"
   ]
  },
  {
   "cell_type": "code",
   "execution_count": 8,
   "metadata": {},
   "outputs": [],
   "source": [
    "#mean and std can also be displayed using the functions as shown\n",
    "Mean_height = df[\"Height\"].mean() \n",
    "\n",
    "# Also np.mean(df[\"Height\"]) can be used\n",
    "\n",
    "Std_height = df['Height'].std()"
   ]
  },
  {
   "cell_type": "code",
   "execution_count": 9,
   "metadata": {},
   "outputs": [
    {
     "name": "stdout",
     "output_type": "stream",
     "text": [
      "the mean heights of players are 73.6972920696325\n",
      "the standard deviation value of heights of players are 2.3058183105175645\n"
     ]
    }
   ],
   "source": [
    "print(\"the mean heights of players are\", Mean_height)\n",
    "#print(f\"the mean heights of players are {df.Height.mean()}\")\n",
    "print(\"the standard deviation value of heights of players are\", Std_height)"
   ]
  },
  {
   "cell_type": "code",
   "execution_count": 10,
   "metadata": {},
   "outputs": [
    {
     "data": {
      "text/plain": [
       "Age        28.736712\n",
       "Height     73.697292\n",
       "Weight    201.689255\n",
       "dtype: float64"
      ]
     },
     "execution_count": 10,
     "metadata": {},
     "output_type": "execute_result"
    }
   ],
   "source": [
    "df[['Age','Height','Weight']].mean() #To display means of several data frames"
   ]
  },
  {
   "cell_type": "code",
   "execution_count": 11,
   "metadata": {},
   "outputs": [
    {
     "name": "stdout",
     "output_type": "stream",
     "text": [
      "[74, 74, 72, 72, 73, 69, 69, 71, 76, 71, 73, 73, 74, 74, 69, 70, 72, 73, 75, 78]\n"
     ]
    }
   ],
   "source": [
    "print(list((df['Height'])[:20]))"
   ]
  },
  {
   "cell_type": "code",
   "execution_count": 12,
   "metadata": {},
   "outputs": [
    {
     "name": "stdout",
     "output_type": "stream",
     "text": [
      "Means Height     73.697292\n",
      "Weight    201.689255\n",
      "Age        28.736712\n",
      "dtype: float64 ,\n",
      " Standard deviations Height     2.305818\n",
      "Weight    20.991491\n",
      "Age        4.320310\n",
      "dtype: float64, \n",
      " and Variances  Height      5.316798\n",
      "Weight    440.642685\n",
      "Age        18.665079\n",
      "dtype: float64\n"
     ]
    }
   ],
   "source": [
    "mean = df[['Height', 'Weight', 'Age']].mean()\n",
    "std = df[['Height','Weight', 'Age']].std()\n",
    "var = df[['Height','Weight', 'Age']].var()\n",
    "\n",
    "print(f\"Means {mean} ,\\n Standard deviations {std}, \\n and Variances  {var}\")"
   ]
  },
  {
   "cell_type": "code",
   "execution_count": 13,
   "metadata": {},
   "outputs": [
    {
     "data": {
      "image/png": "[encoded data removed]",
      "text/plain": [
       "<Figure size 432x288 with 1 Axes>"
      ]
     },
     "metadata": {
      "needs_background": "light"
     },
     "output_type": "display_data"
    }
   ],
   "source": [
    "\n",
    "#df.hist(column  = \"Height\")\n",
    "\n",
    "df.boxplot(column  = \"Height\")\n",
    "plt.xticks(rotation=None)\n",
    "\n",
    "'''\n",
    "plt.figure(figsize=(10, 2))\n",
    "plt.boxplot(df['Height'], vert=False, showmeans=True)\n",
    "\n",
    "plt.title(\"Boxplot showing heights\")\n",
    "plt.xlabel(\"Heights\")\n",
    "'''\n",
    "#plt.hist(df['Height'])\n",
    "plt.grid(color='gray',linestyle='dotted')\n",
    "plt.show()\n"
   ]
  },
  {
   "cell_type": "code",
   "execution_count": 14,
   "metadata": {},
   "outputs": [
    {
     "data": {
      "image/png": "[encoded data removed]",
      "text/plain": [
       "<Figure size 432x288 with 1 Axes>"
      ]
     },
     "metadata": {
      "needs_background": "light"
     },
     "output_type": "display_data"
    }
   ],
   "source": [
    "#plt.figure(figsize=(20,10), dpi = 15)\n",
    "df.boxplot(column='Height',by='Role')\n",
    "plt.xticks(rotation='vertical')\n",
    "plt.show()"
   ]
  },
  {
   "cell_type": "code",
   "execution_count": 15,
   "metadata": {},
   "outputs": [
    {
     "data": {
      "text/plain": [
       "array([75.02895701, 76.42108235, 73.18072994, 74.20639455, 73.13184771,\n",
       "       73.920696  , 77.8709505 , 71.9465653 , 74.26283109, 71.3193785 ,\n",
       "       73.8627057 , 74.20930347, 72.64505652, 74.13603145, 74.26424009,\n",
       "       73.87004736, 69.27692822, 72.36330194, 73.00268996, 73.32559399])"
      ]
     },
     "execution_count": 15,
     "metadata": {},
     "output_type": "execute_result"
    }
   ],
   "source": [
    "# to generate some random data for heights using the mean and standard deviation values we had\n",
    "\n",
    "\n",
    "mean = df['Height'].mean()\n",
    "std = df['Height'].std()\n",
    "\n",
    "generated = np.random.normal(mean,std,1000)\n",
    "generated[:20]"
   ]
  },
  {
   "cell_type": "code",
   "execution_count": 16,
   "metadata": {},
   "outputs": [
    {
     "data": {
      "image/png": "[encoded data removed]",
      "text/plain": [
       "<Figure size 432x288 with 1 Axes>"
      ]
     },
     "metadata": {
      "needs_background": "light"
     },
     "output_type": "display_data"
    }
   ],
   "source": [
    "plt.hist(generated, bins = 16)\n",
    "plt.show()"
   ]
  },
  {
   "cell_type": "code",
   "execution_count": 17,
   "metadata": {},
   "outputs": [
    {
     "data": {
      "image/png": "[encoded data removed]",
      "text/plain": [
       "<Figure size 432x288 with 1 Axes>"
      ]
     },
     "metadata": {
      "needs_background": "light"
     },
     "output_type": "display_data"
    }
   ],
   "source": [
    "#This is to generate a random normal distribution with mean = 0, std = 1, having 300 bins\n",
    "\n",
    "plt.hist(np.random.normal(0,1,50000),bins=300) \n",
    "plt.show()"
   ]
  },
  {
   "cell_type": "code",
   "execution_count": 18,
   "metadata": {},
   "outputs": [
    {
     "name": "stdout",
     "output_type": "stream",
     "text": [
      "<class 'numpy.ndarray'>\n"
     ]
    },
    {
     "data": {
      "image/png": "[encoded data removed]",
      "text/plain": [
       "<Figure size 432x288 with 1 Axes>"
      ]
     },
     "metadata": {
      "needs_background": "light"
     },
     "output_type": "display_data"
    }
   ],
   "source": [
    "#The random numbers can also be generated in a way that does not follow a normal distribution\n",
    "wrong_sample = np.random.rand(1000)\n",
    "#print (wrong_sample)\n",
    "print(type(wrong_sample))\n",
    "plt.hist(wrong_sample)\n",
    "plt.show()"
   ]
  },
  {
   "cell_type": "markdown",
   "metadata": {},
   "source": [
    "To generate a description of the data with reference to a particular column groupings"
   ]
  },
  {
   "cell_type": "code",
   "execution_count": 19,
   "metadata": {},
   "outputs": [
    {
     "data": {
      "text/html": [
       "<div>\n",
       "<style scoped>\n",
       "    .dataframe tbody tr th:only-of-type {\n",
       "        vertical-align: middle;\n",
       "    }\n",
       "\n",
       "    .dataframe tbody tr th {\n",
       "        vertical-align: top;\n",
       "    }\n",
       "\n",
       "    .dataframe thead th {\n",
       "        text-align: right;\n",
       "    }\n",
       "</style>\n",
       "<table border=\"1\" class=\"dataframe\">\n",
       "  <thead>\n",
       "    <tr style=\"text-align: right;\">\n",
       "      <th></th>\n",
       "      <th>Height</th>\n",
       "      <th>Weight</th>\n",
       "      <th>Count</th>\n",
       "    </tr>\n",
       "    <tr>\n",
       "      <th>Role</th>\n",
       "      <th></th>\n",
       "      <th></th>\n",
       "      <th></th>\n",
       "    </tr>\n",
       "  </thead>\n",
       "  <tbody>\n",
       "    <tr>\n",
       "      <th>Catcher</th>\n",
       "      <td>72.723684</td>\n",
       "      <td>204.328947</td>\n",
       "      <td>76</td>\n",
       "    </tr>\n",
       "    <tr>\n",
       "      <th>Designated_Hitter</th>\n",
       "      <td>74.222222</td>\n",
       "      <td>220.888889</td>\n",
       "      <td>18</td>\n",
       "    </tr>\n",
       "    <tr>\n",
       "      <th>First_Baseman</th>\n",
       "      <td>74.000000</td>\n",
       "      <td>213.109091</td>\n",
       "      <td>55</td>\n",
       "    </tr>\n",
       "    <tr>\n",
       "      <th>Outfielder</th>\n",
       "      <td>73.010309</td>\n",
       "      <td>199.113402</td>\n",
       "      <td>194</td>\n",
       "    </tr>\n",
       "    <tr>\n",
       "      <th>Relief_Pitcher</th>\n",
       "      <td>74.374603</td>\n",
       "      <td>203.517460</td>\n",
       "      <td>315</td>\n",
       "    </tr>\n",
       "    <tr>\n",
       "      <th>Second_Baseman</th>\n",
       "      <td>71.362069</td>\n",
       "      <td>184.344828</td>\n",
       "      <td>58</td>\n",
       "    </tr>\n",
       "    <tr>\n",
       "      <th>Shortstop</th>\n",
       "      <td>71.903846</td>\n",
       "      <td>182.923077</td>\n",
       "      <td>52</td>\n",
       "    </tr>\n",
       "    <tr>\n",
       "      <th>Starting_Pitcher</th>\n",
       "      <td>74.719457</td>\n",
       "      <td>205.163636</td>\n",
       "      <td>221</td>\n",
       "    </tr>\n",
       "    <tr>\n",
       "      <th>Third_Baseman</th>\n",
       "      <td>73.044444</td>\n",
       "      <td>200.955556</td>\n",
       "      <td>45</td>\n",
       "    </tr>\n",
       "  </tbody>\n",
       "</table>\n",
       "</div>"
      ],
      "text/plain": [
       "                      Height      Weight  Count\n",
       "Role                                           \n",
       "Catcher            72.723684  204.328947     76\n",
       "Designated_Hitter  74.222222  220.888889     18\n",
       "First_Baseman      74.000000  213.109091     55\n",
       "Outfielder         73.010309  199.113402    194\n",
       "Relief_Pitcher     74.374603  203.517460    315\n",
       "Second_Baseman     71.362069  184.344828     58\n",
       "Shortstop          71.903846  182.923077     52\n",
       "Starting_Pitcher   74.719457  205.163636    221\n",
       "Third_Baseman      73.044444  200.955556     45"
      ]
     },
     "execution_count": 19,
     "metadata": {},
     "output_type": "execute_result"
    }
   ],
   "source": [
    "df.groupby(\"Role\").agg({\"Height\":\"mean\", \"Weight\":\"mean\", \"Name\":\"count\"}).rename(columns={\"Name\":\"Count\"})"
   ]
  },
  {
   "cell_type": "markdown",
   "metadata": {},
   "source": [
    "For confidence interval using scipy.stats"
   ]
  },
  {
   "cell_type": "code",
   "execution_count": 20,
   "metadata": {},
   "outputs": [],
   "source": [
    "from scipy.stats import norm"
   ]
  },
  {
   "cell_type": "code",
   "execution_count": 21,
   "metadata": {},
   "outputs": [],
   "source": [
    "D = df[\"Height\"]\n",
    "mean = df.Height.mean()\n",
    "std = df.Height.std()"
   ]
  },
  {
   "cell_type": "code",
   "execution_count": 25,
   "metadata": {},
   "outputs": [
    {
     "name": "stdout",
     "output_type": "stream",
     "text": [
      "(69.17797122612508, 78.21661291313991), 95.0% confidence level\n",
      "(69.90455845848656, 77.49002568077843), 90.0% confidence level\n",
      "(70.37799404537633, 77.01659009388867), 85.0% confidence level\n"
     ]
    }
   ],
   "source": [
    "D = norm(mean, std)\n",
    "for x in [.95, .90, .85]:\n",
    "    print(f'{D.interval(x)}, {x*100}% confidence level')\n"
   ]
  },
  {
   "cell_type": "markdown",
   "metadata": {},
   "source": [
    "to find the mean heights of catchers using the Role and the Height column data"
   ]
  },
  {
   "cell_type": "code",
   "execution_count": 33,
   "metadata": {},
   "outputs": [
    {
     "name": "stdout",
     "output_type": "stream",
     "text": [
      "Height    72.723684\n",
      "dtype: float64\n",
      "Mean value for the first baseman is Height    74.0\n",
      "dtype: float64\n",
      "Std value for the first baseman is Height    1.953155\n",
      "dtype: float64\n",
      "Mean value for the first baseman is Height    71.362069\n",
      "dtype: float64\n",
      "Std value for the first baseman is Height    1.693105\n",
      "dtype: float64\n"
     ]
    }
   ],
   "source": [
    "meanCatcher = (df.loc[df['Role'] == \"Catcher\",[\"Height\"]]).mean()\n",
    "print(meanCatcher)\n",
    "\n",
    "#to generate the mean for first baseman and second baseman\n",
    "meanFirstBase = (df.loc[df['Role'] == \"First_Baseman\",[\"Height\"]]).mean()\n",
    "stdFirstBase = (df.loc[df['Role'] == \"First_Baseman\",[\"Height\"]]).std()\n",
    "meanSecondBase = (df.loc[df['Role'] == \"Second_Baseman\",[\"Height\"]]).mean()\n",
    "stdSecondBase = (df.loc[df['Role'] == \"Second_Baseman\",[\"Height\"]]).std()\n",
    "print(f\"Mean value for the first baseman is {meanFirstBase}\")\n",
    "print(f\"Std value for the first baseman is {stdFirstBase}\")\n",
    "print(f\"Mean value for the first baseman is {meanSecondBase}\")\n",
    "print(f\"Std value for the first baseman is {stdSecondBase}\")"
   ]
  },
  {
   "cell_type": "markdown",
   "metadata": {},
   "source": [
    "Lets play around with confidence level generating inbuilt function in Scipy.stats\n",
    "using a normal distribution. \n",
    "this is not the confidence interval for our distribution but for a normal distribution using the mean and sandard deviation values from our distribution."
   ]
  },
  {
   "cell_type": "code",
   "execution_count": 34,
   "metadata": {},
   "outputs": [
    {
     "name": "stdout",
     "output_type": "stream",
     "text": [
      "(array([70.17188636]), array([77.82811364])), 95.0% confidence level\n",
      "(array([70.78734576]), array([77.21265424])), 90.0% confidence level\n",
      "(array([71.18837178]), array([76.81162822])), 85.0% confidence level\n"
     ]
    }
   ],
   "source": [
    "D = norm(meanFirstBase, stdFirstBase)\n",
    "for x in [.95, .90, .85]:\n",
    "    print(f'{D.interval(x)}, {x*100}% confidence level')"
   ]
  },
  {
   "cell_type": "code",
   "execution_count": 39,
   "metadata": {},
   "outputs": [
    {
     "name": "stdout",
     "output_type": "stream",
     "text": [
      "<class 'scipy.stats._distn_infrastructure.rv_frozen'>\n",
      "(array([68.0436432]), array([74.68049473])), 95.0% confidence level\n",
      "(array([68.57715827]), array([74.14697966])), 90.0% confidence level\n",
      "(array([68.92479034]), array([73.79934759])), 85.0% confidence level\n"
     ]
    }
   ],
   "source": [
    "D = norm(meanSecondBase, stdSecondBase)\n",
    "print(type (D))\n",
    "for x in [.95, .90, .85]:\n",
    "    print(f'{D.interval(x)}, {x*100}% confidence level')"
   ]
  },
  {
   "cell_type": "code",
   "execution_count": 44,
   "metadata": {},
   "outputs": [
    {
     "name": "stdout",
     "output_type": "stream",
     "text": [
      "\n",
      "Here is a list of modules whose name or summary contains '_distn_infrastructure'.\n",
      "If there are any, enter a module name to get more help.\n",
      "\n",
      "scipy.stats._distn_infrastructure \n",
      "No CUDA runtime is found, using CUDA_HOME='C:/Program Files/NVIDIA GPU Computing Toolkit/CUDA\\v11.3'\n",
      "\n"
     ]
    }
   ],
   "source": [
    "help(\"modules _distn_infrastructure\")"
   ]
  },
  {
   "cell_type": "markdown",
   "metadata": {},
   "source": [
    "To generate the confidence level for our distribution, and to prove our hypothesis that all first basemen are taller than second basemen. This hypothesis was drawn because the first baseman are averagely taller than the second baseman. To test this hypothesis, Lets generate our confidence interval."
   ]
  },
  {
   "cell_type": "code",
   "execution_count": 52,
   "metadata": {},
   "outputs": [
    {
     "name": "stdout",
     "output_type": "stream",
     "text": [
      "95% confidence interval for First baseman Heights is (array([73.47198822]), array([74.52801178]))\n",
      "95% confidence interval for Second baseman Heights is (array([70.91688957]), array([71.80724836]))\n"
     ]
    }
   ],
   "source": [
    "import numpy as np\n",
    "import scipy.stats as st\n",
    "\n",
    "# we create a variable FBdata to hold first baseman height data \n",
    "FBdata = df.loc[df['Role'] == \"First_Baseman\",[\"Height\"]]\n",
    "\n",
    "#create 95% confidence interval for population mean height\n",
    "#using inbuilt function st.t.interval, we pass in confidence value, n-1, mean, standard error of mean caclculated with inbuilt function st.sem\n",
    "print(f\"95% confidence interval for First baseman Heights is {st.t.interval(alpha=0.95, df=len(FBdata)-1, loc=np.mean(FBdata), scale=st.sem(FBdata))}\")\n",
    "\n",
    "#similarly for second baseman\n",
    "SBdata = df.loc[df['Role'] == \"Second_Baseman\",[\"Height\"]]\n",
    "print(f\"95% confidence interval for Second baseman Heights is {st.t.interval(alpha=0.95, df=len(SBdata)-1, loc=np.mean(SBdata), scale=st.sem(SBdata))}\")"
   ]
  },
  {
   "cell_type": "markdown",
   "metadata": {},
   "source": [
    "To calculate the confidence interval for the weight"
   ]
  },
  {
   "cell_type": "code",
   "execution_count": 92,
   "metadata": {},
   "outputs": [
    {
     "name": "stdout",
     "output_type": "stream",
     "text": [
      "95% confidence interval - 1st baseman Weights is (array([207.96538518]), array([218.25279664])) 2nd baseman Weights is (array([181.44956935]), array([187.24008582]))\n",
      "90% confidence interval - 1st baseman Weights is (array([208.81540328]), array([217.40277854]))2nd baseman Weights is (array([181.92733]), array([186.76232517]))\n",
      "85% confidence interval - 1st baseman Weights is (array([209.36253926]), array([216.85564256]))2nd baseman Weights is (array([182.23505168]), array([186.45460349]))\n"
     ]
    }
   ],
   "source": [
    "\n",
    "#First Basemen weight data\n",
    "FBWdata = df.loc[df['Role'] == \"First_Baseman\",[\"Weight\"]]\n",
    "#Second Basemen weight data\n",
    "SBWdata = df.loc[df['Role'] == \"Second_Baseman\",[\"Weight\"]]\n",
    "\n",
    "#create 95% confidence interval for population mean height\n",
    "#using inbuilt function st.t.interval, we pass in confidence value, n-1, mean, standard error of mean caclculated with inbuilt function st.sem\n",
    "conf = [0.95,0.90,0.85]\n",
    "print(f\"95% confidence interval - 1st baseman Weights is {st.t.interval(alpha=conf[0], df=len(FBWdata)-1, loc=np.mean(FBWdata), scale=st.sem(FBWdata))} 2nd baseman Weights is {st.t.interval(alpha=conf[0], df=len(SBWdata)-1, loc=np.mean(SBWdata), scale=st.sem(SBWdata))}\")\n",
    "print(f\"90% confidence interval - 1st baseman Weights is {st.t.interval(alpha=conf[1], df=len(FBWdata)-1, loc=np.mean(FBWdata), scale=st.sem(FBWdata))}2nd baseman Weights is {st.t.interval(alpha=conf[1], df=len(SBWdata)-1, loc=np.mean(SBWdata), scale=st.sem(SBWdata))}\")\n",
    "print(f\"85% confidence interval - 1st baseman Weights is {st.t.interval(alpha=conf[2], df=len(FBWdata)-1, loc=np.mean(FBWdata), scale=st.sem(FBWdata))}2nd baseman Weights is {st.t.interval(alpha=conf[2], df=len(SBWdata)-1, loc=np.mean(SBWdata), scale=st.sem(SBWdata))}\")\n",
    "\n",
    "\n",
    "\n"
   ]
  },
  {
   "cell_type": "markdown",
   "metadata": {},
   "source": [
    "From the confidence interval of the means calulated, we can see that the intervals do not overlap. We have therefore correctly proved that all the First Baseman are having more weight than all the Second Baseman players."
   ]
  },
  {
   "cell_type": "markdown",
   "metadata": {},
   "source": [
    "To calculate the confidence interval of the entire weight mean.\n",
    "\n",
    "Note: the use of fillna method is to remove all the nan values in the list"
   ]
  },
  {
   "cell_type": "code",
   "execution_count": 78,
   "metadata": {},
   "outputs": [
    {
     "name": "stdout",
     "output_type": "stream",
     "text": [
      "95% confidence interval for the Weights column is (200.4438894118501, 203.00872180671857)\n",
      "90% confidence interval for the Weights column is (200.65036411000037, 202.8022471085683)\n",
      "85% confidence interval for the Weights column is (200.7848150904331, 202.66779612813556)\n"
     ]
    }
   ],
   "source": [
    "weight = list(df[\"Weight\"].fillna(method='pad'))\n",
    "print(f\"95% confidence interval for the Weights column is {st.t.interval(alpha=0.95, df=len(weight)-1, loc=np.mean(weight), scale=st.sem(weight))}\")\n",
    "\n",
    "print(f\"90% confidence interval for the Weights column is {st.t.interval(alpha=0.90, df=len(weight)-1, loc=np.mean(weight), scale=st.sem(weight))}\")\n",
    "\n",
    "print(f\"85% confidence interval for the Weights column is {st.t.interval(alpha=0.85, df=len(weight)-1, loc=np.mean(weight), scale=st.sem(weight))}\")"
   ]
  },
  {
   "cell_type": "markdown",
   "metadata": {},
   "source": [
    "To further justify the hypothesis that all First Baseman players have more weight than all the Second Baseman players, we use the student t-test.\n",
    "\n",
    "Higher values of the t-value, also called t-score, indicate that a large difference exists between the two sample sets. The smaller the t-value, the more similarity exists between the two sample sets. A large t-score indicates that the groups are different. A small t-score indicates that the groups are similar\n",
    "p-value is used to describe the probability that the null hypothesis is right or not right. The smaller the p-value the more significant our hypothesis and the less significant the null hypothesis. The null hypothesis is that the two sample sets are not in any way correlated. With a p-value of less than or equal to 0.05, the null hypothesis is considered untrue. When p-value = 0.05, null hypothesis is 95% untrue."
   ]
  },
  {
   "cell_type": "code",
   "execution_count": 93,
   "metadata": {},
   "outputs": [
    {
     "name": "stdout",
     "output_type": "stream",
     "text": [
      "T-value = 9.77\n",
      "P-value: 1.4185554184322125e-15\n"
     ]
    }
   ],
   "source": [
    "from scipy.stats import ttest_ind\n",
    "\n",
    "tval, pval = ttest_ind(df.loc[df['Role']=='First_Baseman',['Weight']], df.loc[df['Role']=='Second_Baseman',['Weight']],equal_var=False)\n",
    "print(f\"T-value = {tval[0]:.2f}\\nP-value: {pval[0]}\")"
   ]
  },
  {
   "cell_type": "markdown",
   "metadata": {},
   "source": [
    "The p-value we arrived at shows that there is a relationship between the First_Baseman Weight and the Second Baseman Weight.\n",
    "\n",
    "the t-value of 9.77 shows that there is a difference of 9.77 between the First_Baseman Weight and the Second Baseman Weight. "
   ]
  },
  {
   "cell_type": "markdown",
   "metadata": {},
   "source": [
    "To create a uniform distribution of means of sample size 100 of numbers between 0 and 1"
   ]
  },
  {
   "cell_type": "code",
   "execution_count": 103,
   "metadata": {},
   "outputs": [
    {
     "data": {
      "image/png": "[encoded data removed]",
      "text/plain": [
       "<Figure size 432x288 with 1 Axes>"
      ]
     },
     "metadata": {
      "needs_background": "light"
     },
     "output_type": "display_data"
    }
   ],
   "source": [
    "\n",
    "def normal_random(sample_range = 100):\n",
    "    sample = [np.random.uniform(0,1) for i in range (sample_range)]\n",
    "    return sum(sample)/len(sample)\n",
    "sample = [normal_random() for _ in range(100)]\n",
    "plt.hist(sample)\n",
    "plt.show()"
   ]
  },
  {
   "cell_type": "markdown",
   "metadata": {},
   "source": [
    "To check if there exists a correlation between the Heights and Weights we check the correlation coefficients\n"
   ]
  },
  {
   "cell_type": "code",
   "execution_count": 104,
   "metadata": {},
   "outputs": [
    {
     "data": {
      "text/plain": [
       "array([[1.        , 0.52959196],\n",
       "       [0.52959196, 1.        ]])"
      ]
     },
     "execution_count": 104,
     "metadata": {},
     "output_type": "execute_result"
    }
   ],
   "source": [
    "np.corrcoef(df['Height'],df['Weight'].fillna(method='pad'))"
   ]
  },
  {
   "cell_type": "markdown",
   "metadata": {},
   "source": [
    "The correlation coefficient is 0.53 which shows that the heights and weights are moderately correlated.\n",
    "\n",
    "Correlation coefficients whose magnitude are between 0.7 and 0.9 indicate variables which can be considered highly correlated. Correlation coefficients whose magnitude are between 0.5 and 0.7 indicate variables which can be considered moderately correlated."
   ]
  },
  {
   "cell_type": "markdown",
   "metadata": {},
   "source": [
    "We plot a scatter graph to show the Height and Weight patterns. A more correlated distribution would have points that are closely packed on the graph."
   ]
  },
  {
   "cell_type": "code",
   "execution_count": 109,
   "metadata": {},
   "outputs": [
    {
     "data": {
      "image/png": "[encoded data removed]",
      "text/plain": [
       "<Figure size 432x288 with 1 Axes>"
      ]
     },
     "metadata": {
      "needs_background": "light"
     },
     "output_type": "display_data"
    }
   ],
   "source": [
    "plt.scatter(df.Height, df.Weight)\n",
    "plt.title(\"Weight versus Height\")\n",
    "plt.xlabel(\"Height\"); plt.ylabel(\"Weight\")\n",
    "plt.show()"
   ]
  },
  {
   "cell_type": "code",
   "execution_count": null,
   "metadata": {},
   "outputs": [],
   "source": []
  }
 ],
 "metadata": {
  "interpreter": {
   "hash": "d063b60717332e91197e2eb55aef2cd19d45489547141a5917fea6daf31c4133"
  },
  "kernelspec": {
   "display_name": "Python 3.8.10 64-bit (windows store)",
   "language": "python",
   "name": "python3"
  },
  "language_info": {
   "codemirror_mode": {
    "name": "ipython",
    "version": 3
   },
   "file_extension": ".py",
   "mimetype": "text/x-python",
   "name": "python",
   "nbconvert_exporter": "python",
   "pygments_lexer": "ipython3",
   "version": "3.8.10"
  },
  "orig_nbformat": 4
 },
 "nbformat": 4,
 "nbformat_minor": 2
}
