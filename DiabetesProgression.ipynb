{
 "cells": [
  {
   "cell_type": "markdown",
   "metadata": {},
   "source": [
    "## Probability and Statistics\n",
    "## Project 1 \n",
    "\n",
    "In this project, we will use the dataset of diabetes patients taken [from here](https://www4.stat.ncsu.edu/~boos/var.select/diabetes.html). We will try to gain insights on disease progression using the data."
   ]
  },
  {
   "cell_type": "code",
   "execution_count": 9,
   "metadata": {},
   "outputs": [
    {
     "data": {
      "text/html": [
       "<div>\n",
       "<style scoped>\n",
       "    .dataframe tbody tr th:only-of-type {\n",
       "        vertical-align: middle;\n",
       "    }\n",
       "\n",
       "    .dataframe tbody tr th {\n",
       "        vertical-align: top;\n",
       "    }\n",
       "\n",
       "    .dataframe thead th {\n",
       "        text-align: right;\n",
       "    }\n",
       "</style>\n",
       "<table border=\"1\" class=\"dataframe\">\n",
       "  <thead>\n",
       "    <tr style=\"text-align: right;\">\n",
       "      <th></th>\n",
       "      <th>AGE</th>\n",
       "      <th>SEX</th>\n",
       "      <th>BMI</th>\n",
       "      <th>BP</th>\n",
       "      <th>S1</th>\n",
       "      <th>S2</th>\n",
       "      <th>S3</th>\n",
       "      <th>S4</th>\n",
       "      <th>S5</th>\n",
       "      <th>S6</th>\n",
       "      <th>Y</th>\n",
       "    </tr>\n",
       "  </thead>\n",
       "  <tbody>\n",
       "    <tr>\n",
       "      <th>0</th>\n",
       "      <td>59</td>\n",
       "      <td>2</td>\n",
       "      <td>32.1</td>\n",
       "      <td>101.0</td>\n",
       "      <td>157</td>\n",
       "      <td>93.2</td>\n",
       "      <td>38.0</td>\n",
       "      <td>4.0</td>\n",
       "      <td>4.8598</td>\n",
       "      <td>87</td>\n",
       "      <td>151</td>\n",
       "    </tr>\n",
       "    <tr>\n",
       "      <th>1</th>\n",
       "      <td>48</td>\n",
       "      <td>1</td>\n",
       "      <td>21.6</td>\n",
       "      <td>87.0</td>\n",
       "      <td>183</td>\n",
       "      <td>103.2</td>\n",
       "      <td>70.0</td>\n",
       "      <td>3.0</td>\n",
       "      <td>3.8918</td>\n",
       "      <td>69</td>\n",
       "      <td>75</td>\n",
       "    </tr>\n",
       "    <tr>\n",
       "      <th>2</th>\n",
       "      <td>72</td>\n",
       "      <td>2</td>\n",
       "      <td>30.5</td>\n",
       "      <td>93.0</td>\n",
       "      <td>156</td>\n",
       "      <td>93.6</td>\n",
       "      <td>41.0</td>\n",
       "      <td>4.0</td>\n",
       "      <td>4.6728</td>\n",
       "      <td>85</td>\n",
       "      <td>141</td>\n",
       "    </tr>\n",
       "    <tr>\n",
       "      <th>3</th>\n",
       "      <td>24</td>\n",
       "      <td>1</td>\n",
       "      <td>25.3</td>\n",
       "      <td>84.0</td>\n",
       "      <td>198</td>\n",
       "      <td>131.4</td>\n",
       "      <td>40.0</td>\n",
       "      <td>5.0</td>\n",
       "      <td>4.8903</td>\n",
       "      <td>89</td>\n",
       "      <td>206</td>\n",
       "    </tr>\n",
       "    <tr>\n",
       "      <th>4</th>\n",
       "      <td>50</td>\n",
       "      <td>1</td>\n",
       "      <td>23.0</td>\n",
       "      <td>101.0</td>\n",
       "      <td>192</td>\n",
       "      <td>125.4</td>\n",
       "      <td>52.0</td>\n",
       "      <td>4.0</td>\n",
       "      <td>4.2905</td>\n",
       "      <td>80</td>\n",
       "      <td>135</td>\n",
       "    </tr>\n",
       "  </tbody>\n",
       "</table>\n",
       "</div>"
      ],
      "text/plain": [
       "   AGE  SEX   BMI     BP   S1     S2    S3   S4      S5  S6    Y\n",
       "0   59    2  32.1  101.0  157   93.2  38.0  4.0  4.8598  87  151\n",
       "1   48    1  21.6   87.0  183  103.2  70.0  3.0  3.8918  69   75\n",
       "2   72    2  30.5   93.0  156   93.6  41.0  4.0  4.6728  85  141\n",
       "3   24    1  25.3   84.0  198  131.4  40.0  5.0  4.8903  89  206\n",
       "4   50    1  23.0  101.0  192  125.4  52.0  4.0  4.2905  80  135"
      ]
     },
     "execution_count": 9,
     "metadata": {},
     "output_type": "execute_result"
    }
   ],
   "source": [
    "import pandas as pd\n",
    "import numpy as np\n",
    "import matplotlib.pyplot as plt\n",
    "\n",
    "df = pd.read_csv(\"C:/Users/user/All things Data Science/Stats-Practice/data/diabetes.tsv\",sep='\\t')\n",
    "df.head()"
   ]
  },
  {
   "cell_type": "markdown",
   "metadata": {},
   "source": [
    "\n",
    "In this dataset, columns as the following:\n",
    "* Age and sex are self-explanatory\n",
    "* BMI is body mass index\n",
    "* BP is average blood pressure\n",
    "* S1 through S6 are different blood measurements\n",
    "* Y is the qualitative measure of disease progression over one year\n",
    "\n",
    "Let's study this dataset using methods of probability and statistics.\n",
    "\n",
    "### Task 1: Compute mean values and variance for all values"
   ]
  },
  {
   "cell_type": "code",
   "execution_count": 10,
   "metadata": {},
   "outputs": [
    {
     "name": "stdout",
     "output_type": "stream",
     "text": [
      "AGE     48.518100\n",
      "SEX      1.468326\n",
      "BMI     26.375792\n",
      "BP      94.647014\n",
      "S1     189.140271\n",
      "S2     115.439140\n",
      "S3      49.788462\n",
      "S4       4.070249\n",
      "S5       4.641411\n",
      "S6      91.260181\n",
      "Y      152.133484\n",
      "dtype: float64\n",
      "AGE     171.846610\n",
      "SEX       0.249561\n",
      "BMI      19.519798\n",
      "BP      191.304401\n",
      "S1     1197.717241\n",
      "S2      924.955494\n",
      "S3      167.293585\n",
      "S4        1.665261\n",
      "S5        0.272892\n",
      "S6      132.165712\n",
      "Y      5943.331348\n",
      "dtype: float64\n",
      "              AGE         SEX         BMI          BP          S1          S2  \\\n",
      "count  442.000000  442.000000  442.000000  442.000000  442.000000  442.000000   \n",
      "mean    48.518100    1.468326   26.375792   94.647014  189.140271  115.439140   \n",
      "std     13.109028    0.499561    4.418122   13.831283   34.608052   30.413081   \n",
      "min     19.000000    1.000000   18.000000   62.000000   97.000000   41.600000   \n",
      "25%     38.250000    1.000000   23.200000   84.000000  164.250000   96.050000   \n",
      "50%     50.000000    1.000000   25.700000   93.000000  186.000000  113.000000   \n",
      "75%     59.000000    2.000000   29.275000  105.000000  209.750000  134.500000   \n",
      "max     79.000000    2.000000   42.200000  133.000000  301.000000  242.400000   \n",
      "\n",
      "               S3          S4          S5          S6           Y  \n",
      "count  442.000000  442.000000  442.000000  442.000000  442.000000  \n",
      "mean    49.788462    4.070249    4.641411   91.260181  152.133484  \n",
      "std     12.934202    1.290450    0.522391   11.496335   77.093005  \n",
      "min     22.000000    2.000000    3.258100   58.000000   25.000000  \n",
      "25%     40.250000    3.000000    4.276700   83.250000   87.000000  \n",
      "50%     48.000000    4.000000    4.620050   91.000000  140.500000  \n",
      "75%     57.750000    5.000000    4.997200   98.000000  211.500000  \n",
      "max     99.000000    9.090000    6.107000  124.000000  346.000000  \n"
     ]
    }
   ],
   "source": [
    "print(df.mean())\n",
    "print(df.var())\n",
    "print(df.describe())"
   ]
  },
  {
   "cell_type": "markdown",
   "metadata": {},
   "source": [
    "### Task 2: Plot boxplots for BMI, BP and Y depending on gender"
   ]
  },
  {
   "cell_type": "code",
   "execution_count": 11,
   "metadata": {},
   "outputs": [
    {
     "data": {
      "image/png": "[encoded data removed]",
      "text/plain": [
       "<Figure size 432x288 with 1 Axes>"
      ]
     },
     "metadata": {
      "needs_background": "light"
     },
     "output_type": "display_data"
    },
    {
     "data": {
      "image/png": "[encoded data removed]",
      "text/plain": [
       "<Figure size 432x288 with 1 Axes>"
      ]
     },
     "metadata": {
      "needs_background": "light"
     },
     "output_type": "display_data"
    },
    {
     "data": {
      "image/png": "[encoded data removed]",
      "text/plain": [
       "<Figure size 432x288 with 1 Axes>"
      ]
     },
     "metadata": {
      "needs_background": "light"
     },
     "output_type": "display_data"
    }
   ],
   "source": [
    "df.boxplot(column = 'BMI', by = 'SEX', showmeans=True)\n",
    "df.boxplot(column = 'BP', by = 'SEX', showmeans=True)\n",
    "df.boxplot(column = 'Y', by = 'SEX', showmeans=True)\n",
    "plt.show()"
   ]
  },
  {
   "cell_type": "markdown",
   "metadata": {},
   "source": [
    "### Task 3: What is the the distribution of Age, Sex, BMI and Y variables?"
   ]
  },
  {
   "cell_type": "code",
   "execution_count": 12,
   "metadata": {},
   "outputs": [
    {
     "data": {
      "image/png": "[encoded data removed]",
      "text/plain": [
       "<Figure size 1080x720 with 4 Axes>"
      ]
     },
     "metadata": {
      "needs_background": "light"
     },
     "output_type": "display_data"
    },
    {
     "name": "stdout",
     "output_type": "stream",
     "text": [
      "The mean age is 48.51809954751131, median is 50.0 and mode is0    53\n",
      "dtype: int64\n"
     ]
    },
    {
     "data": {
      "image/png": "[encoded data removed]",
      "text/plain": [
       "<Figure size 432x288 with 1 Axes>"
      ]
     },
     "metadata": {
      "needs_background": "light"
     },
     "output_type": "display_data"
    },
    {
     "name": "stdout",
     "output_type": "stream",
     "text": [
      "count    442.000000\n",
      "mean      48.518100\n",
      "std       13.109028\n",
      "min       19.000000\n",
      "25%       38.250000\n",
      "50%       50.000000\n",
      "75%       59.000000\n",
      "max       79.000000\n",
      "Name: AGE, dtype: float64\n"
     ]
    }
   ],
   "source": [
    "\n",
    "'''df.hist(figsize=(20,20))\n",
    "plt.suptitle('histogram for all columns')'''\n",
    "\n",
    "\n",
    "df[['AGE','SEX', 'BMI','Y']].hist(figsize=(15,10))\n",
    "plt.show()\n",
    "\n",
    "plt.boxplot(df['AGE'], showmeans=True)\n",
    "\n",
    "plt.suptitle('histogram for Age, Sex, BMI and Y variables')\n",
    "print(f\"The mean age is {df['AGE'].mean()}, median is {df['AGE'].median()} and mode is{df['AGE'].mode()}\")\n",
    "\n",
    "'''Age, Sex, BMI, Y = df['Age'], df['Sex'], df['BMI'], df['Y']\n",
    "fig, axs = plt.subplots(4)\n",
    "axs[1].hist(Age, )\n",
    "axs[2].hist(Sex)\n",
    "axs[3].hist(BMI)\n",
    "axs[4].hist(Y)'''\n",
    "plt.show()\n",
    "print(df.AGE.describe())"
   ]
  },
  {
   "cell_type": "markdown",
   "metadata": {},
   "source": [
    "The Age distribution is unimodal and skewed distribution, the data is centred around the median age of 50.\n",
    "From the histogram, about 85 people fall into the age category of 48 and 55. The centre of the distribution is placed at 50.\n",
    "For the spread of the distribution, the range of the distribution is about 60, while the IQR(interquartile range) is 20.75. The standard deviation is 13.11.\n",
    "\n"
   ]
  },
  {
   "cell_type": "markdown",
   "metadata": {},
   "source": [
    "#### The Sex distribution"
   ]
  },
  {
   "cell_type": "code",
   "execution_count": 13,
   "metadata": {},
   "outputs": [
    {
     "data": {
      "image/png": "[encoded data removed]",
      "text/plain": [
       "<Figure size 576x504 with 1 Axes>"
      ]
     },
     "metadata": {
      "needs_background": "light"
     },
     "output_type": "display_data"
    },
    {
     "name": "stdout",
     "output_type": "stream",
     "text": [
      "The mode of the distribution is0    1\n",
      "dtype: int64\n"
     ]
    },
    {
     "data": {
      "image/png": "[encoded data removed]",
      "text/plain": [
       "<Figure size 432x288 with 1 Axes>"
      ]
     },
     "metadata": {
      "needs_background": "light"
     },
     "output_type": "display_data"
    },
    {
     "name": "stdout",
     "output_type": "stream",
     "text": [
      "count    442.000000\n",
      "mean       1.468326\n",
      "std        0.499561\n",
      "min        1.000000\n",
      "25%        1.000000\n",
      "50%        1.000000\n",
      "75%        2.000000\n",
      "max        2.000000\n",
      "Name: SEX, dtype: float64\n"
     ]
    }
   ],
   "source": [
    "df['SEX'].hist(figsize=(8,7))\n",
    "plt.show()\n",
    "plt.boxplot(df['SEX'], showmeans=True)\n",
    "\n",
    "plt.suptitle('histogram for Sex variables')\n",
    "print(f\"The mode of the distribution is{df['SEX'].mode()}\")\n",
    "\n",
    "plt.show()\n",
    "\n",
    "print(df.SEX.describe())"
   ]
  },
  {
   "cell_type": "markdown",
   "metadata": {},
   "source": [
    "The sex distribution is uniform. This distribution has only two possible values: 1 or 2 and so mean and standard deviation would not return much meaning. The mode for the distribution is 1. The range of the distribution is about 32.\n"
   ]
  },
  {
   "cell_type": "markdown",
   "metadata": {},
   "source": [
    "#### Y distribution"
   ]
  },
  {
   "cell_type": "code",
   "execution_count": 14,
   "metadata": {},
   "outputs": [
    {
     "data": {
      "image/png": "[encoded data removed]",
      "text/plain": [
       "<Figure size 576x504 with 1 Axes>"
      ]
     },
     "metadata": {
      "needs_background": "light"
     },
     "output_type": "display_data"
    },
    {
     "name": "stdout",
     "output_type": "stream",
     "text": [
      "The mode of the distribution is0     72\n",
      "1    200\n",
      "dtype: int64\n"
     ]
    },
    {
     "data": {
      "image/png": "[encoded data removed]",
      "text/plain": [
       "<Figure size 432x288 with 1 Axes>"
      ]
     },
     "metadata": {
      "needs_background": "light"
     },
     "output_type": "display_data"
    },
    {
     "name": "stdout",
     "output_type": "stream",
     "text": [
      "count    442.000000\n",
      "mean     152.133484\n",
      "std       77.093005\n",
      "min       25.000000\n",
      "25%       87.000000\n",
      "50%      140.500000\n",
      "75%      211.500000\n",
      "max      346.000000\n",
      "Name: Y, dtype: float64\n"
     ]
    }
   ],
   "source": [
    "df['Y'].hist(figsize=(8,7))\n",
    "plt.show()\n",
    "plt.boxplot(df['Y'], showmeans=True)\n",
    "\n",
    "plt.suptitle('histogram for Sex variables')\n",
    "print(f\"The mode of the distribution is{df['Y'].mode()}\")\n",
    "\n",
    "plt.show()\n",
    "\n",
    "print(df.Y.describe())"
   ]
  },
  {
   "cell_type": "markdown",
   "metadata": {},
   "source": [
    "The Disease progression distribution is a unimodal and skewed distribution, the data is centred around the median disease progression value of 140.5. From the histogram, about 80 people fall into the disease progression category of 50 and 100. The modal value of the distribution is placed at 72.\n",
    "For the spread of the distribution, the range of the distribution is about 320, while the IQR(interquartile range) is 124. "
   ]
  },
  {
   "cell_type": "code",
   "execution_count": 15,
   "metadata": {},
   "outputs": [
    {
     "data": {
      "image/png": "[encoded data removed]",
      "text/plain": [
       "<Figure size 432x288 with 2 Axes>"
      ]
     },
     "metadata": {
      "needs_background": "light"
     },
     "output_type": "display_data"
    },
    {
     "data": {
      "image/png": "[encoded data removed]",
      "text/plain": [
       "<Figure size 432x288 with 1 Axes>"
      ]
     },
     "metadata": {
      "needs_background": "light"
     },
     "output_type": "display_data"
    }
   ],
   "source": [
    "#bmi versus disease progression\n",
    "#age versus disease progression\n",
    "\n",
    "df.hist(column = 'Y', by= \"SEX\")\n",
    "plt.xlabel(\"Disease Progression\") \n",
    "df.hist(column = 'BMI', bins = 30)\n",
    "plt.show()"
   ]
  },
  {
   "cell_type": "markdown",
   "metadata": {},
   "source": [
    "### Task 4: Test the correlation between different variables and disease progression (Y)\n",
    "\n",
    "> **Hint** Correlation matrix would give you the most useful information on which values are dependent."
   ]
  },
  {
   "cell_type": "markdown",
   "metadata": {},
   "source": [
    "To test the correlation between each of the variables and the disease progression"
   ]
  },
  {
   "cell_type": "code",
   "execution_count": 16,
   "metadata": {},
   "outputs": [
    {
     "name": "stdout",
     "output_type": "stream",
     "text": [
      "correlation coefficient for BMI is [[1.         0.58645013]\n",
      " [0.58645013 1.        ]]\n",
      "correlation coefficient for AGE is [[1.         0.18788875]\n",
      " [0.18788875 1.        ]]\n",
      "correlation coefficient for SEX is [[1.       0.043062]\n",
      " [0.043062 1.      ]]\n",
      "correlation coefficient for BP is [[1.         0.44148176]\n",
      " [0.44148176 1.        ]]\n",
      "correlation coefficient for S1 is [[1.         0.21202248]\n",
      " [0.21202248 1.        ]]\n",
      "correlation coefficient for S2 is [[1.         0.17405359]\n",
      " [0.17405359 1.        ]]\n",
      "correlation coefficient for S3 is [[ 1.         -0.39478925]\n",
      " [-0.39478925  1.        ]]\n",
      "correlation coefficient for S4 is [[1.         0.43045288]\n",
      " [0.43045288 1.        ]]\n",
      "correlation coefficient for S5 is [[1.         0.56588259]\n",
      " [0.56588259 1.        ]]\n",
      "correlation coefficient for S6 is [[1.         0.38248348]\n",
      " [0.38248348 1.        ]]\n"
     ]
    }
   ],
   "source": [
    "BMI , Y, AGE, SEX,BP, S1, S2, S3, S4, S5, S6 = df['BMI'], df['Y'], df['AGE'], df['SEX'], df['BP'], df['S1'],df['S2'],df['S3'],df['S4'],df['S5'],df['S6']\n",
    "print(f'correlation coefficient for BMI is {np.corrcoef(BMI, Y)}')\n",
    "print(f'correlation coefficient for AGE is {np.corrcoef(AGE, Y)}')\n",
    "print(f'correlation coefficient for SEX is {np.corrcoef(SEX, Y)}')\n",
    "print(f'correlation coefficient for BP is {np.corrcoef(BP, Y)}')\n",
    "print(f'correlation coefficient for S1 is {np.corrcoef(S1, Y)}')\n",
    "print(f'correlation coefficient for S2 is {np.corrcoef(S2, Y)}')\n",
    "print(f'correlation coefficient for S3 is {np.corrcoef(S3, Y)}')\n",
    "print(f'correlation coefficient for S4 is {np.corrcoef(S4, Y)}')\n",
    "print(f'correlation coefficient for S5 is {np.corrcoef(S5, Y)}')\n",
    "print(f'correlation coefficient for S6 is {np.corrcoef(S6, Y)}')"
   ]
  },
  {
   "cell_type": "markdown",
   "metadata": {},
   "source": [
    "There is no remarkable correlation noticed. The most correlated features are the BMI and S5. We plot scatter plots to visualize the correlation. "
   ]
  },
  {
   "cell_type": "code",
   "execution_count": 17,
   "metadata": {},
   "outputs": [
    {
     "data": {
      "text/plain": [
       "<matplotlib.collections.PathCollection at 0x288cc42edf0>"
      ]
     },
     "execution_count": 17,
     "metadata": {},
     "output_type": "execute_result"
    },
    {
     "data": {
      "image/png": "[encoded data removed]",
      "text/plain": [
       "<Figure size 432x288 with 1 Axes>"
      ]
     },
     "metadata": {
      "needs_background": "light"
     },
     "output_type": "display_data"
    }
   ],
   "source": [
    "plt.scatter(df['BMI'],df['Y'])"
   ]
  },
  {
   "cell_type": "code",
   "execution_count": 18,
   "metadata": {},
   "outputs": [
    {
     "data": {
      "text/plain": [
       "<matplotlib.collections.PathCollection at 0x288cbfe5550>"
      ]
     },
     "execution_count": 18,
     "metadata": {},
     "output_type": "execute_result"
    },
    {
     "data": {
      "image/png": "[encoded data removed]",
      "text/plain": [
       "<Figure size 432x288 with 1 Axes>"
      ]
     },
     "metadata": {
      "needs_background": "light"
     },
     "output_type": "display_data"
    }
   ],
   "source": [
    "plt.scatter(df['S5'],df['Y'])"
   ]
  },
  {
   "cell_type": "markdown",
   "metadata": {},
   "source": [
    "Both scatter plots show no serious correlation."
   ]
  },
  {
   "cell_type": "markdown",
   "metadata": {},
   "source": [
    "### Task 5: Test the hypothesis that the degree of diabetes progression is different between men and women"
   ]
  },
  {
   "cell_type": "code",
   "execution_count": 19,
   "metadata": {},
   "outputs": [
    {
     "data": {
      "text/plain": [
       "<AxesSubplot:title={'center':'Y'}, xlabel='SEX'>"
      ]
     },
     "execution_count": 19,
     "metadata": {},
     "output_type": "execute_result"
    },
    {
     "data": {
      "image/png": "[encoded data removed]",
      "text/plain": [
       "<Figure size 432x288 with 1 Axes>"
      ]
     },
     "metadata": {
      "needs_background": "light"
     },
     "output_type": "display_data"
    }
   ],
   "source": [
    "df.boxplot(column = 'Y', by = 'SEX')"
   ]
  },
  {
   "cell_type": "code",
   "execution_count": 20,
   "metadata": {},
   "outputs": [
    {
     "data": {
      "text/html": [
       "<div>\n",
       "<style scoped>\n",
       "    .dataframe tbody tr th:only-of-type {\n",
       "        vertical-align: middle;\n",
       "    }\n",
       "\n",
       "    .dataframe tbody tr th {\n",
       "        vertical-align: top;\n",
       "    }\n",
       "\n",
       "    .dataframe thead th {\n",
       "        text-align: right;\n",
       "    }\n",
       "</style>\n",
       "<table border=\"1\" class=\"dataframe\">\n",
       "  <thead>\n",
       "    <tr style=\"text-align: right;\">\n",
       "      <th></th>\n",
       "      <th>Y</th>\n",
       "      <th>BMI</th>\n",
       "      <th>Count</th>\n",
       "    </tr>\n",
       "    <tr>\n",
       "      <th>SEX</th>\n",
       "      <th></th>\n",
       "      <th></th>\n",
       "      <th></th>\n",
       "    </tr>\n",
       "  </thead>\n",
       "  <tbody>\n",
       "    <tr>\n",
       "      <th>1</th>\n",
       "      <td>149.021277</td>\n",
       "      <td>26.010638</td>\n",
       "      <td>235</td>\n",
       "    </tr>\n",
       "    <tr>\n",
       "      <th>2</th>\n",
       "      <td>155.666667</td>\n",
       "      <td>26.790338</td>\n",
       "      <td>207</td>\n",
       "    </tr>\n",
       "  </tbody>\n",
       "</table>\n",
       "</div>"
      ],
      "text/plain": [
       "              Y        BMI  Count\n",
       "SEX                              \n",
       "1    149.021277  26.010638    235\n",
       "2    155.666667  26.790338    207"
      ]
     },
     "execution_count": 20,
     "metadata": {},
     "output_type": "execute_result"
    }
   ],
   "source": [
    "df.groupby('SEX').agg({ 'Y' : 'mean', 'BMI' : 'mean', 'S1' : 'count'}).rename(columns={ 'S1' : 'Count'})"
   ]
  },
  {
   "cell_type": "markdown",
   "metadata": {},
   "source": [
    "From the boxplot and also the summary, the mean disease progression for male, represented by sex code 1, is different from that of the female. Male averagely had a disease progression of 149.02 while female had an average disease progression of 155.67.\n",
    "To test the hypothesis that male disease progression is different from female disease progression, we find the confidence interval."
   ]
  },
  {
   "cell_type": "markdown",
   "metadata": {},
   "source": [
    "#### Confidence Interval"
   ]
  },
  {
   "cell_type": "code",
   "execution_count": 21,
   "metadata": {},
   "outputs": [
    {
     "name": "stdout",
     "output_type": "stream",
     "text": [
      "95% confidence interval : \t \t \t \t Male interval  \t \t \t \t \t \t Female interval\n",
      " \t \t \t \t \t (array([139.26596788]), array([158.77658531])) \t \t \t (array([144.91605492]), array([166.41727841]))\n",
      "90% confidence interval : \t \t \t \t Male interval  \t \t \t \t \t \t Female interval\n",
      " \t \t \t \t \t (array([140.84433379]), array([157.1982194])) \t \t \t (array([146.65695587]), array([164.67637747]))\n",
      "85% confidence interval : \t \t \t \t Male interval  \t \t \t \t \t \t Female interval\n",
      " \t \t \t \t \t (array([141.8698942]), array([156.17265899])) \t \t \t (array([147.78769289]), array([163.54564044]))\n"
     ]
    }
   ],
   "source": [
    "import numpy as np\n",
    "import scipy.stats as st\n",
    "\n",
    "# we create a variable MPdata to hold Male progression data \n",
    "MPdata = df.loc[df['SEX'] == 1,[\"Y\"]].fillna(method='pad')\n",
    "\n",
    "#similarly for female progression data\n",
    "FPdata = df.loc[df['SEX'] == 2,[\"Y\"]].fillna(method='pad')\n",
    "\n",
    "#create 95% confidence interval for the disease progression\n",
    "#using inbuilt function st.t.interval, we pass in confidence value, n-1, mean, standard error of mean caclculated with inbuilt function st.sem\n",
    "\n",
    "print(\"95% confidence interval : \\t \\t \\t \\t Male interval  \\t \\t \\t \\t \\t \\t Female interval\")\n",
    "print(f\" \\t \\t \\t \\t \\t {st.t.interval(alpha=0.95, df=len(MPdata)-1, loc=np.mean(MPdata), scale=st.sem(MPdata))} \\t \\t \\t {st.t.interval(alpha=0.95, df=len(FPdata)-1, loc=np.mean(FPdata), scale=st.sem(FPdata))}\")\n",
    "\n",
    "print(\"90% confidence interval : \\t \\t \\t \\t Male interval  \\t \\t \\t \\t \\t \\t Female interval\")\n",
    "print(f\" \\t \\t \\t \\t \\t {st.t.interval(alpha=0.90, df=len(MPdata)-1, loc=np.mean(MPdata), scale=st.sem(MPdata))} \\t \\t \\t {st.t.interval(alpha=0.90, df=len(FPdata)-1, loc=np.mean(FPdata), scale=st.sem(FPdata))}\")\n",
    "\n",
    "print(\"85% confidence interval : \\t \\t \\t \\t Male interval  \\t \\t \\t \\t \\t \\t Female interval\")\n",
    "print(f\" \\t \\t \\t \\t \\t {st.t.interval(alpha=0.85, df=len(MPdata)-1, loc=np.mean(MPdata), scale=st.sem(MPdata))} \\t \\t \\t {st.t.interval(alpha=0.85, df=len(FPdata)-1, loc=np.mean(FPdata), scale=st.sem(FPdata))}\")"
   ]
  },
  {
   "cell_type": "markdown",
   "metadata": {},
   "source": [
    "The confidence intervals overlap in all the confidence level considered. This shows that statistically, there is no significant difference in the progression of the disease both in males and females."
   ]
  },
  {
   "cell_type": "markdown",
   "metadata": {},
   "source": []
  }
 ],
 "metadata": {
  "interpreter": {
   "hash": "86193a1ab0ba47eac1c69c1756090baa3b420b3eea7d4aafab8b85f8b312f0c5"
  },
  "kernelspec": {
   "display_name": "Python 3.8.8 64-bit (conda)",
   "name": "python3"
  },
  "language_info": {
   "codemirror_mode": {
    "name": "ipython",
    "version": 3
   },
   "file_extension": ".py",
   "mimetype": "text/x-python",
   "name": "python",
   "nbconvert_exporter": "python",
   "pygments_lexer": "ipython3",
   "version": "3.8.10"
  },
  "orig_nbformat": 4
 },
 "nbformat": 4,
 "nbformat_minor": 2
}
